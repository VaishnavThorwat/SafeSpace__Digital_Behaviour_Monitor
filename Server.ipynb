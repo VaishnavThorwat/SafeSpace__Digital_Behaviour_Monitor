{
 "cells": [
  {
   "cell_type": "code",
   "execution_count": 1,
   "id": "33f6ddff-fa9b-4bf7-81bf-2a61618cd804",
   "metadata": {},
   "outputs": [],
   "source": [
    "import socket \n",
    "from _thread import *\n",
    "import sys\n",
    "from collections import defaultdict as df\n",
    "import pickle\n",
    "from sklearn.feature_extraction.text import TfidfVectorizer, TfidfTransformer\n",
    "import time\n",
    "import warnings\n",
    "warnings.filterwarnings(\"ignore\", category=UserWarning)"
   ]
  },
  {
   "cell_type": "code",
   "execution_count": 2,
   "id": "a9fc1ced-fbb8-4940-95b4-4739e9f7d27a",
   "metadata": {},
   "outputs": [],
   "source": [
    "# print(msg)\n",
    "model = pickle.load(open(\"CNNBILSTM.pkl\", 'rb'))"
   ]
  },
  {
   "cell_type": "code",
   "execution_count": 3,
   "id": "16c80ec4-7346-4590-be4d-9549a0840002",
   "metadata": {},
   "outputs": [],
   "source": [
    "class Server:\n",
    "    def __init__(self):\n",
    "        self.rooms = df(list)\n",
    "        self.server = socket.socket(socket.AF_INET, socket.SOCK_STREAM)\n",
    "        self.server.setsockopt(socket.SOL_SOCKET, socket.SO_REUSEADDR, 1)\n",
    "\n",
    "\n",
    "    def accept_connections(self, ip_address, port):\n",
    "        self.ip_address = ip_address\n",
    "        self.port = port\n",
    "        self.server.bind((self.ip_address, int(self.port)))\n",
    "        self.server.listen(100)\n",
    "        print(\"Server is ready and listening for connections...\")\n",
    "        while True:\n",
    "            connection, address = self.server.accept()\n",
    "            print(str(address[0]) + \":\" + str(address[1]) + \" Connected\")\n",
    "\n",
    "            start_new_thread(self.clientThread, (connection,))\n",
    "\n",
    "        self.server.close()\n",
    "\n",
    "    \n",
    "    def clientThread(self, connection):\n",
    "        user_id = connection.recv(1024).decode().replace(\"User  \", \"\")  # Indented inside the function\n",
    "        room_id = connection.recv(1024).decode().replace(\"Join \", \"\")\n",
    "    \n",
    "        print(f\"User  {user_id} joined room {room_id}\")  # Log user joining\n",
    "    \n",
    "        if room_id not in self.rooms:\n",
    "            connection.send(\"New Group created\".encode())\n",
    "        else:\n",
    "            connection.send(\"Welcome to chat room\".encode())\n",
    "    \n",
    "        connection.send(\"Server is ready\".encode())  # Send server ready message to client\n",
    "    \n",
    "        self.rooms[room_id].append(connection)\n",
    "    \n",
    "        while True:\n",
    "            try:\n",
    "                message = connection.recv(1024)\n",
    "                pred = 0  # Default value, assuming non-bullying\n",
    "                if message:\n",
    "                    print(f\"Message received from {user_id}: {message.decode()}\")  # Log received message\n",
    "    \n",
    "                    # Process the message\n",
    "                    self.broadcast(message.decode(), connection, room_id, pred)\n",
    "                else:\n",
    "                    self.remove(connection, room_id)\n",
    "                    break\n",
    "            except:\n",
    "                self.remove(connection, room_id)\n",
    "                break\n",
    "\n",
    "    def broadcast(self, message_to_send, connection, room_id, pred):\n",
    "        print(f\"Broadcasting message in room {room_id}: {message_to_send}\")  # Log broadcasting\n",
    "        for client in self.rooms[room_id]:\n",
    "            if client != connection:\n",
    "                try:\n",
    "                    if pred == 0:  # Non-bullying message\n",
    "                        client.send(message_to_send.encode())\n",
    "                        print(\"Message sent to client\")  # Log successful send\n",
    "                    else:\n",
    "                        client.send(\"Bullying message detected and hidden\".encode())\n",
    "                except:\n",
    "                    client.close()\n",
    "                    self.remove(client, room_id)\n",
    "\n",
    "        # print(\"Sent\")\n",
    "\n",
    "    def prettyPrinter(self,data_1):\n",
    "         # List of stopwords \n",
    "        my_file = open(\"stopwords.txt\", \"r\")\n",
    "        content = my_file.read()\n",
    "        content_list = content.split(\"\\n\")\n",
    "        my_file.close()\n",
    "        tfidf_vector =  TfidfVectorizer(stop_words = content_list, lowercase = True,vocabulary=pickle.load(open(\"tfidf_vector_vocabulary.pkl\", \"rb\")))\n",
    "        data_2=tfidf_vector.fit_transform([data_1])\n",
    "        print(data_2)\n",
    "        pred = model.predict(data_2)\n",
    "        print(pred)\n",
    "        if pred==0:\n",
    "            print('Non bullying')\n",
    "            return pred\n",
    "        else: \n",
    "            print(\"Stop bullying people and behave decently.\")\n",
    "            return pred\n",
    "   \n",
    "    def remove(self, connection, room_id):\n",
    "        if connection in self.rooms[room_id]:\n",
    "            self.rooms[room_id].remove(connection)"
   ]
  },
  {
   "cell_type": "code",
   "execution_count": null,
   "id": "5d399cb3-5d89-4d14-ab65-645b25d3f189",
   "metadata": {},
   "outputs": [
    {
     "name": "stdout",
     "output_type": "stream",
     "text": [
      "Server is ready and listening for connections...\n",
      "10.255.34.63:60815 Connected\n",
      "User  Qwerty joined room 123\n",
      "Message received from Qwerty: Hy there\n",
      "Broadcasting message in room 123: Hy there\n"
     ]
    }
   ],
   "source": [
    "if __name__ == \"__main__\":\n",
    "    ip_address = \"0.0.0.0\"\n",
    "    port = 12345\n",
    "\n",
    "    s = Server()\n",
    "    s.accept_connections(ip_address, port)"
   ]
  },
  {
   "cell_type": "code",
   "execution_count": null,
   "id": "a08645f1",
   "metadata": {},
   "outputs": [],
   "source": []
  }
 ],
 "metadata": {
  "kernelspec": {
   "display_name": "Python 3 (ipykernel)",
   "language": "python",
   "name": "python3"
  },
  "language_info": {
   "codemirror_mode": {
    "name": "ipython",
    "version": 3
   },
   "file_extension": ".py",
   "mimetype": "text/x-python",
   "name": "python",
   "nbconvert_exporter": "python",
   "pygments_lexer": "ipython3",
   "version": "3.12.9"
  }
 },
 "nbformat": 4,
 "nbformat_minor": 5
}
